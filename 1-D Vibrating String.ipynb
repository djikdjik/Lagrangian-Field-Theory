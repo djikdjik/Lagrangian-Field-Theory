The Lagrangian density for the string is $l$
