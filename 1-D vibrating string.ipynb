{
  "metadata": {
    "kernelspec": {
      "name": "python",
      "display_name": "Python (Pyodide)",
      "language": "python"
    },
    "language_info": {
      "codemirror_mode": {
        "name": "python",
        "version": 3
      },
      "file_extension": ".py",
      "mimetype": "text/x-python",
      "name": "python",
      "nbconvert_exporter": "python",
      "pygments_lexer": "ipython3",
      "version": "3.8"
    }
  },
  "nbformat_minor": 4,
  "nbformat": 4,
  "cells": [
    {
      "cell_type": "markdown",
      "source": "The lagrange equations for the string is\n$$\n\\mathcal{L}=\\frac{1}{2}\\sigma (\\partial_t\\phi)^2 - \\frac{1}{2}\\tau (\\partial_x\\phi)^2\n$$\nwhere $\\sigma$ and $\\tau$ are the linear mass densities and tension, respectively.\nRecall that the lagrange eqns for the 1-D field are given as\n$$\\partial_t(\\partial_{\\dot{\\phi}}\\mathcal{L})+\\partial_x(\\partial_{{\\phi}'}\\mathcal{L})-\\partial_{\\phi}\\mathcal{L}=0\n$$\nThe computations of the field eqns can be encoded in the following way:",
      "metadata": {}
    },
    {
      "cell_type": "code",
      "source": "import sympy as smp\nimport numpy as np",
      "metadata": {
        "trusted": true
      },
      "outputs": [],
      "execution_count": 97
    },
    {
      "cell_type": "code",
      "source": "#defining the symbols\nt, x = smp.symbols('t x')\nS, u, phi, L = smp.symbols(r'\\sigma \\tau \\phi \\mathcal{L}', cls=smp.Function)",
      "metadata": {
        "trusted": true
      },
      "outputs": [],
      "execution_count": 98
    },
    {
      "cell_type": "code",
      "source": "phi = phi(x,t)\nphi_t = smp.diff(phi, t)\nphi_x = smp.diff(phi, x)\nphi_tt = smp.diff(phi_t, t)\nphi_xx = smp.diff(phi_x, x)",
      "metadata": {
        "trusted": true
      },
      "outputs": [],
      "execution_count": 99
    },
    {
      "cell_type": "markdown",
      "source": "Now defining the Lagrangian density as $\\mathcal{L}=T-U$",
      "metadata": {}
    },
    {
      "cell_type": "code",
      "source": "T = smp.Rational(1,2)  * (phi_t)**2 \nU = smp.Rational(1,2) *  (phi_x)**2\nL = T - U",
      "metadata": {
        "trusted": true
      },
      "outputs": [],
      "execution_count": 100
    },
    {
      "cell_type": "markdown",
      "source": "Now one can get the field equation as",
      "metadata": {}
    },
    {
      "cell_type": "code",
      "source": "LE =  smp.diff(smp.diff(L, phi_t), t).simplify()  + smp.diff(smp.diff(L, phi_x), x).simplify() - smp.diff(L, phi) ",
      "metadata": {
        "trusted": true
      },
      "outputs": [],
      "execution_count": 101
    },
    {
      "cell_type": "code",
      "source": "LE",
      "metadata": {
        "trusted": true
      },
      "outputs": [
        {
          "execution_count": 102,
          "output_type": "execute_result",
          "data": {
            "text/plain": "Derivative(\\phi(x, t), (t, 2)) - Derivative(\\phi(x, t), (x, 2))",
            "text/latex": "$\\displaystyle \\frac{\\partial^{2}}{\\partial t^{2}} \\phi{\\left(x,t \\right)} - \\frac{\\partial^{2}}{\\partial x^{2}} \\phi{\\left(x,t \\right)}$"
          },
          "metadata": {}
        }
      ],
      "execution_count": 102
    },
    {
      "cell_type": "markdown",
      "source": "Setting the LE=0 gives the wave equation, as expected:\n$$\n\\partial^2_t\\phi(x,t)=\\partial^2_x\\phi(x,t)\n$$\nNote that the propagation speed has been set to 1. Hint: Natural Units.",
      "metadata": {}
    },
    {
      "cell_type": "code",
      "source": "",
      "metadata": {
        "trusted": true
      },
      "outputs": [],
      "execution_count": null
    }
  ]
}