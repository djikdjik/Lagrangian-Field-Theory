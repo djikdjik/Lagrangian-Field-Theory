{
 "cells": [
  {
   "cell_type": "markdown",
   "metadata": {},
   "source": [
    "The lagrangian (density) for the string is\n",
    "$$\n",
    "\\mathcal{L}=\\frac{1}{2}\\sigma (\\partial_t\\phi)^2 - \\frac{1}{2}\\tau (\\partial_x\\phi)^2\n",
    "$$\n",
    "where $\\sigma$ and $\\tau$ are the linear mass densities and tension, respectively.\n",
    "Recall that the lagrange eqns for the 1-D field are given as\n",
    "$$\\partial_t(\\partial_{\\dot{\\phi}}\\mathcal{L})+\\partial_x(\\partial_{{\\phi}'}\\mathcal{L})-\\partial_{\\phi}\\mathcal{L}=0\n",
    "$$\n",
    "The computations of the field eqns can be encoded in the following way:"
   ]
  },
  {
   "cell_type": "code",
   "execution_count": 1,
   "metadata": {},
   "outputs": [],
   "source": [
    "import sympy as smp\n"
   ]
  },
  {
   "cell_type": "code",
   "execution_count": 9,
   "metadata": {},
   "outputs": [],
   "source": [
    "#defining the symbols\n",
    "t, x = smp.symbols('t x')\n",
    "sigma, tau = smp.symbols(r'\\sigma \\tau')\n",
    "L, phi = smp.symbols(r'\\mathcal{L} \\phi', cls=smp.Function)"
   ]
  },
  {
   "cell_type": "code",
   "execution_count": 7,
   "metadata": {},
   "outputs": [],
   "source": [
    "phi = phi(x,t)\n",
    "phi_t = smp.diff(phi, t)\n",
    "phi_x = smp.diff(phi, x)\n"
   ]
  },
  {
   "cell_type": "markdown",
   "metadata": {},
   "source": [
    "Now defining the Lagrangian density as $\\mathcal{L}=T-U$"
   ]
  },
  {
   "cell_type": "code",
   "execution_count": 10,
   "metadata": {},
   "outputs": [],
   "source": [
    "T = smp.Rational(1,2) * sigma* (phi_t)**2 \n",
    "U = smp.Rational(1,2) * tau *  (phi_x)**2\n",
    "L = T - U"
   ]
  },
  {
   "cell_type": "markdown",
   "metadata": {},
   "source": [
    "Now one can get the field equation as"
   ]
  },
  {
   "cell_type": "code",
   "execution_count": 16,
   "metadata": {},
   "outputs": [],
   "source": [
    "LE =  smp.diff(smp.diff(L, phi_t), t).simplify()  + smp.diff(smp.diff(L, phi_x), x).simplify() - smp.diff(L, phi)"
   ]
  },
  {
   "cell_type": "code",
   "execution_count": 17,
   "metadata": {},
   "outputs": [
    {
     "data": {
      "text/latex": [
       "$\\displaystyle \\sigma \\frac{\\partial^{2}}{\\partial t^{2}} \\phi{\\left(x,t \\right)} - \\tau \\frac{\\partial^{2}}{\\partial x^{2}} \\phi{\\left(x,t \\right)}$"
      ],
      "text/plain": [
       "\\sigma*Derivative(\\phi(x, t), (t, 2)) - \\tau*Derivative(\\phi(x, t), (x, 2))"
      ]
     },
     "execution_count": 17,
     "metadata": {},
     "output_type": "execute_result"
    }
   ],
   "source": [
    "LE"
   ]
  },
  {
   "cell_type": "markdown",
   "metadata": {},
   "source": [
    "Setting the LE=0 gives the wave equation, as expected:\n",
    "$$\n",
    "\\frac{\\partial^2_t\\phi(x,t)}{\\tau/\\sigma}=\\partial^2_x\\phi(x,t)\n",
    "$$"
   ]
  }
 ],
 "metadata": {
  "kernelspec": {
   "display_name": "Python 3 (ipykernel)",
   "language": "python",
   "name": "python3"
  },
  "language_info": {
   "codemirror_mode": {
    "name": "ipython",
    "version": 3
   },
   "file_extension": ".py",
   "mimetype": "text/x-python",
   "name": "python",
   "nbconvert_exporter": "python",
   "pygments_lexer": "ipython3",
   "version": "3.12.2"
  }
 },
 "nbformat": 4,
 "nbformat_minor": 4
}
